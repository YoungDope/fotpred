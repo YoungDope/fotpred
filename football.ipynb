{
 "cells": [
  {
   "cell_type": "code",
   "execution_count": null,
   "metadata": {},
   "outputs": [],
   "source": [
    "# Import libraries\n",
    "import pandas as pd\n",
    "import numpy as np\n",
    "import seaborn as sns\n",
    "import matplotlib.pyplot as plt\n",
    "from sklearn.model_selection import train_test_split\n",
    "from sklearn.ensemble import RandomForestClassifier, GradientBoostingClassifier\n",
    "from sklearn.preprocessing import LabelEncoder, OneHotEncoder\n",
    "from sklearn.metrics import classification_report, confusion_matrix, accuracy_score\n",
    "from imblearn.over_sampling import SMOTE\n",
    "import joblib\n",
    "\n",
    "# Load Dataset\n",
    "file_path = \"final_dataset.csv\"\n",
    "data = pd.read_csv(file_path)   "
   ]
  },
  {
   "cell_type": "code",
   "execution_count": 22,
   "metadata": {},
   "outputs": [
    {
     "name": "stdout",
     "output_type": "stream",
     "text": [
      "   Unnamed: 0      Date  HomeTeam       AwayTeam  FTHG  FTAG FTR  HTGS  ATGS  \\\n",
      "0           0  19/08/00  Charlton       Man City     4     0   H     0     0   \n",
      "1           1  19/08/00   Chelsea       West Ham     4     2   H     0     0   \n",
      "2           2  19/08/00  Coventry  Middlesbrough     1     3  NH     0     0   \n",
      "3           3  19/08/00     Derby    Southampton     2     2  NH     0     0   \n",
      "4           4  19/08/00     Leeds        Everton     2     0   H     0     0   \n",
      "\n",
      "   HTGC  ...  HTLossStreak3  HTLossStreak5  ATWinStreak3 ATWinStreak5  \\\n",
      "0     0  ...              0              0             0            0   \n",
      "1     0  ...              0              0             0            0   \n",
      "2     0  ...              0              0             0            0   \n",
      "3     0  ...              0              0             0            0   \n",
      "4     0  ...              0              0             0            0   \n",
      "\n",
      "  ATLossStreak3 ATLossStreak5 HTGD ATGD DiffPts DiffFormPts  \n",
      "0             0             0  0.0  0.0     0.0         0.0  \n",
      "1             0             0  0.0  0.0     0.0         0.0  \n",
      "2             0             0  0.0  0.0     0.0         0.0  \n",
      "3             0             0  0.0  0.0     0.0         0.0  \n",
      "4             0             0  0.0  0.0     0.0         0.0  \n",
      "\n",
      "[5 rows x 40 columns]\n",
      "<class 'pandas.core.frame.DataFrame'>\n",
      "RangeIndex: 6840 entries, 0 to 6839\n",
      "Data columns (total 40 columns):\n",
      " #   Column         Non-Null Count  Dtype  \n",
      "---  ------         --------------  -----  \n",
      " 0   Unnamed: 0     6840 non-null   int64  \n",
      " 1   Date           6840 non-null   object \n",
      " 2   HomeTeam       6840 non-null   object \n",
      " 3   AwayTeam       6840 non-null   object \n",
      " 4   FTHG           6840 non-null   int64  \n",
      " 5   FTAG           6840 non-null   int64  \n",
      " 6   FTR            6840 non-null   object \n",
      " 7   HTGS           6840 non-null   int64  \n",
      " 8   ATGS           6840 non-null   int64  \n",
      " 9   HTGC           6840 non-null   int64  \n",
      " 10  ATGC           6840 non-null   int64  \n",
      " 11  HTP            6840 non-null   float64\n",
      " 12  ATP            6840 non-null   float64\n",
      " 13  HM1            6840 non-null   object \n",
      " 14  HM2            6840 non-null   object \n",
      " 15  HM3            6840 non-null   object \n",
      " 16  HM4            6840 non-null   object \n",
      " 17  HM5            6840 non-null   object \n",
      " 18  AM1            6840 non-null   object \n",
      " 19  AM2            6840 non-null   object \n",
      " 20  AM3            6840 non-null   object \n",
      " 21  AM4            6840 non-null   object \n",
      " 22  AM5            6840 non-null   object \n",
      " 23  MW             6840 non-null   float64\n",
      " 24  HTFormPtsStr   6840 non-null   object \n",
      " 25  ATFormPtsStr   6840 non-null   object \n",
      " 26  HTFormPts      6840 non-null   int64  \n",
      " 27  ATFormPts      6840 non-null   int64  \n",
      " 28  HTWinStreak3   6840 non-null   int64  \n",
      " 29  HTWinStreak5   6840 non-null   int64  \n",
      " 30  HTLossStreak3  6840 non-null   int64  \n",
      " 31  HTLossStreak5  6840 non-null   int64  \n",
      " 32  ATWinStreak3   6840 non-null   int64  \n",
      " 33  ATWinStreak5   6840 non-null   int64  \n",
      " 34  ATLossStreak3  6840 non-null   int64  \n",
      " 35  ATLossStreak5  6840 non-null   int64  \n",
      " 36  HTGD           6840 non-null   float64\n",
      " 37  ATGD           6840 non-null   float64\n",
      " 38  DiffPts        6840 non-null   float64\n",
      " 39  DiffFormPts    6840 non-null   float64\n",
      "dtypes: float64(7), int64(17), object(16)\n",
      "memory usage: 2.1+ MB\n",
      "None\n",
      "        Unnamed: 0         FTHG         FTAG         HTGS         ATGS  \\\n",
      "count  6840.000000  6840.000000  6840.000000  6840.000000  6840.000000   \n",
      "mean   3419.500000     1.527485     1.130263    24.416667    24.514327   \n",
      "std    1974.682253     1.297913     1.124566    17.178524    17.136894   \n",
      "min       0.000000     0.000000     0.000000     0.000000     0.000000   \n",
      "25%    1709.750000     1.000000     0.000000    11.000000    11.000000   \n",
      "50%    3419.500000     1.000000     1.000000    23.000000    23.000000   \n",
      "75%    5129.250000     2.000000     2.000000    35.000000    35.000000   \n",
      "max    6839.000000     9.000000     7.000000   102.000000   105.000000   \n",
      "\n",
      "              HTGC         ATGC          HTP          ATP           MW  ...  \\\n",
      "count  6840.000000  6840.000000  6840.000000  6840.000000  6840.000000  ...   \n",
      "mean     24.497807    24.347515     1.209014     1.226768    19.500000  ...   \n",
      "std      16.401571    16.341557     0.530186     0.523176    10.966658  ...   \n",
      "min       0.000000     0.000000     0.000000     0.000000     1.000000  ...   \n",
      "25%      11.000000    11.000000     0.888889     0.906250    10.000000  ...   \n",
      "50%      23.000000    23.000000     1.172414     1.192308    19.500000  ...   \n",
      "75%      36.000000    36.000000     1.555556     1.562500    29.000000  ...   \n",
      "max      85.000000    82.000000     2.736842     2.761905    38.000000  ...   \n",
      "\n",
      "       HTLossStreak3  HTLossStreak5  ATWinStreak3  ATWinStreak5  \\\n",
      "count    6840.000000    6840.000000   6840.000000   6840.000000   \n",
      "mean        0.057602       0.014327      0.062865      0.016520   \n",
      "std         0.233007       0.118846      0.242739      0.127475   \n",
      "min         0.000000       0.000000      0.000000      0.000000   \n",
      "25%         0.000000       0.000000      0.000000      0.000000   \n",
      "50%         0.000000       0.000000      0.000000      0.000000   \n",
      "75%         0.000000       0.000000      0.000000      0.000000   \n",
      "max         1.000000       1.000000      1.000000      1.000000   \n",
      "\n",
      "       ATLossStreak3  ATLossStreak5         HTGD         ATGD      DiffPts  \\\n",
      "count    6840.000000    6840.000000  6840.000000  6840.000000  6840.000000   \n",
      "mean        0.051023       0.010234    -0.009690     0.014539    -0.017755   \n",
      "std         0.220062       0.100651     0.693593     0.692937     0.668523   \n",
      "min         0.000000       0.000000    -3.000000    -3.333333    -2.363636   \n",
      "25%         0.000000       0.000000    -0.500000    -0.464286    -0.451613   \n",
      "50%         0.000000       0.000000    -0.076923    -0.050000     0.000000   \n",
      "75%         0.000000       0.000000     0.400000     0.421053     0.428571   \n",
      "max         1.000000       1.000000     4.000000     3.500000     2.285714   \n",
      "\n",
      "       DiffFormPts  \n",
      "count  6840.000000  \n",
      "mean     -0.018086  \n",
      "std       0.408488  \n",
      "min      -2.250000  \n",
      "25%      -0.176471  \n",
      "50%       0.000000  \n",
      "75%       0.153846  \n",
      "max       2.250000  \n",
      "\n",
      "[8 rows x 24 columns]\n"
     ]
    },
    {
     "data": {
      "image/png": "[encoded data removed]",
      "text/plain": [
       "<Figure size 640x480 with 1 Axes>"
      ]
     },
     "metadata": {},
     "output_type": "display_data"
    }
   ],
   "source": [
    "# Exploratory Data Analysis (EDA)\n",
    "print(data.head())\n",
    "print(data.info())\n",
    "print(data.describe())\n",
    "\n",
    "# Visualisasi Distribusi Hasil Pertandingan\n",
    "sns.countplot(x=data['FTR'])\n",
    "plt.title(\"Distribusi Hasil Pertandingan\")\n",
    "plt.show()\n"
   ]
  },
  {
   "cell_type": "code",
   "execution_count": 23,
   "metadata": {},
   "outputs": [],
   "source": [
    "# Home Advantage\n",
    "data['HomeAdvantage'] = data['HTGS'] - data['ATGS']\n",
    "\n",
    "# Form: Klasifikasi performa 5 pertandingan terakhir (contoh saja)\n",
    "# Nilai ini biasanya dari data historis, kita gunakan asumsi sederhana untuk demo\n",
    "data['HomeForm'] = np.random.randint(0, 5, size=len(data))  # Dummy data\n",
    "data['AwayForm'] = np.random.randint(0, 5, size=len(data))  # Dummy data\n",
    "\n",
    "# Head-to-Head Record\n",
    "data['H2H'] = np.random.randint(0, 3, size=len(data))  # Dummy data\n"
   ]
  },
  {
   "cell_type": "code",
   "execution_count": 24,
   "metadata": {},
   "outputs": [],
   "source": [
    "# Encode Categorical Features with OneHotEncoder\n",
    "cat_features = ['HomeTeam', 'AwayTeam']\n",
    "encoder = OneHotEncoder(sparse_output=False)  # Perbaikan di sini\n",
    "encoded_features = pd.DataFrame(encoder.fit_transform(data[cat_features]))\n",
    "encoded_features.columns = encoder.get_feature_names_out(cat_features)\n",
    "\n",
    "# Drop original categorical columns and merge encoded features\n",
    "data = pd.concat([data.drop(cat_features, axis=1), encoded_features], axis=1)\n",
    "\n",
    "# Encode Target Variable (FTR)\n",
    "label_encoder = LabelEncoder()\n",
    "data['FTR'] = label_encoder.fit_transform(data['FTR'])"
   ]
  },
  {
   "cell_type": "code",
   "execution_count": 25,
   "metadata": {},
   "outputs": [],
   "source": [
    "# Pastikan kolom tanggal dikonversi ke tipe datetime\n",
    "if 'Date' in data.columns:\n",
    "    data['Date'] = pd.to_datetime(data['Date'], format='%d/%m/%y', errors='coerce')\n",
    "\n",
    "# Drop baris dengan nilai tanggal yang tidak valid\n",
    "data = data.dropna(subset=['Date'])"
   ]
  },
  {
   "cell_type": "code",
   "execution_count": 26,
   "metadata": {},
   "outputs": [],
   "source": [
    "# Pisahkan fitur dan label\n",
    "X = data.drop(['FTR', 'Date'], axis=1)  # Pastikan kolom tanggal dan label tidak menjadi bagian dari fitur\n",
    "y = data['FTR']"
   ]
  },
  {
   "cell_type": "code",
   "execution_count": 27,
   "metadata": {},
   "outputs": [
    {
     "name": "stdout",
     "output_type": "stream",
     "text": [
      "Kolom non-numerik ditemukan: Index(['HM1', 'HM2', 'HM3', 'HM4', 'HM5', 'AM1', 'AM2', 'AM3', 'AM4', 'AM5',\n",
      "       'HTFormPtsStr', 'ATFormPtsStr'],\n",
      "      dtype='object')\n"
     ]
    }
   ],
   "source": [
    "# Periksa tipe data setiap kolom\n",
    "non_numeric_cols = X.select_dtypes(include=['object']).columns\n",
    "if len(non_numeric_cols) > 0:\n",
    "    print(f\"Kolom non-numerik ditemukan: {non_numeric_cols}\")\n",
    "    # Terapkan OneHotEncoder pada kolom non-numerik\n",
    "    X = pd.get_dummies(X, columns=non_numeric_cols, drop_first=True)\n"
   ]
  },
  {
   "cell_type": "code",
   "execution_count": 28,
   "metadata": {},
   "outputs": [
    {
     "name": "stdout",
     "output_type": "stream",
     "text": [
      "Resampling selesai!\n"
     ]
    }
   ],
   "source": [
    "# Terapkan SMOTE\n",
    "from imblearn.over_sampling import SMOTE\n",
    "\n",
    "smote = SMOTE(random_state=42)\n",
    "X_resampled, y_resampled = smote.fit_resample(X, y)\n",
    "\n",
    "print(\"Resampling selesai!\")"
   ]
  },
  {
   "cell_type": "code",
   "execution_count": 29,
   "metadata": {},
   "outputs": [],
   "source": [
    "# Train Multiple Models\n",
    "models = {\n",
    "    \"RandomForest\": RandomForestClassifier(random_state=42),\n",
    "    \"GradientBoosting\": GradientBoostingClassifier(random_state=42),\n",
    "}"
   ]
  },
  {
   "cell_type": "code",
   "execution_count": 30,
   "metadata": {},
   "outputs": [
    {
     "name": "stdout",
     "output_type": "stream",
     "text": [
      "Model: RandomForest\n",
      "Accuracy: 0.6016081871345029\n",
      "Classification Report:\n",
      "              precision    recall  f1-score   support\n",
      "\n",
      "           0       0.57      0.55      0.56       634\n",
      "           1       0.62      0.65      0.64       734\n",
      "\n",
      "    accuracy                           0.60      1368\n",
      "   macro avg       0.60      0.60      0.60      1368\n",
      "weighted avg       0.60      0.60      0.60      1368\n",
      "\n",
      "Model: GradientBoosting\n",
      "Accuracy: 0.6388888888888888\n",
      "Classification Report:\n",
      "              precision    recall  f1-score   support\n",
      "\n",
      "           0       0.63      0.53      0.57       634\n",
      "           1       0.64      0.74      0.69       734\n",
      "\n",
      "    accuracy                           0.64      1368\n",
      "   macro avg       0.64      0.63      0.63      1368\n",
      "weighted avg       0.64      0.64      0.63      1368\n",
      "\n"
     ]
    }
   ],
   "source": [
    "results = {}\n",
    "for name, model in models.items():\n",
    "    model.fit(X_train, y_train)\n",
    "    y_pred = model.predict(X_test)\n",
    "    acc = accuracy_score(y_test, y_pred)\n",
    "    results[name] = acc\n",
    "    print(f\"Model: {name}\")\n",
    "    print(\"Accuracy:\", acc)\n",
    "    print(\"Classification Report:\")\n",
    "    print(classification_report(y_test, y_pred))\n"
   ]
  },
  {
   "cell_type": "code",
   "execution_count": 31,
   "metadata": {},
   "outputs": [],
   "source": [
    "# Choose the best model\n",
    "best_model_name = max(results, key=results.get)\n",
    "best_model = models[best_model_name]"
   ]
  },
  {
   "cell_type": "code",
   "execution_count": 32,
   "metadata": {},
   "outputs": [
    {
     "data": {
      "text/plain": [
       "['best_model.pkl']"
      ]
     },
     "execution_count": 32,
     "metadata": {},
     "output_type": "execute_result"
    }
   ],
   "source": [
    "# Save the Best Model\n",
    "joblib.dump(best_model, \"best_model.pkl\")"
   ]
  },
  {
   "cell_type": "code",
   "execution_count": 33,
   "metadata": {},
   "outputs": [
    {
     "data": {
      "image/png": "[encoded data removed]",
      "text/plain": [
       "<Figure size 640x480 with 2 Axes>"
      ]
     },
     "metadata": {},
     "output_type": "display_data"
    }
   ],
   "source": [
    "# Visualisasi Confusion Matrix untuk model terbaik\n",
    "y_pred = best_model.predict(X_test)\n",
    "conf_matrix = confusion_matrix(y_test, y_pred)\n",
    "sns.heatmap(conf_matrix, annot=True, fmt=\"d\", cmap=\"Blues\", xticklabels=label_encoder.classes_, yticklabels=label_encoder.classes_)\n",
    "plt.title(f\"Confusion Matrix: {best_model_name}\")\n",
    "plt.xlabel(\"Predicted\")\n",
    "plt.ylabel(\"True\")\n",
    "plt.show()"
   ]
  }
 ],
 "metadata": {
  "kernelspec": {
   "display_name": "Python 3",
   "language": "python",
   "name": "python3"
  },
  "language_info": {
   "codemirror_mode": {
    "name": "ipython",
    "version": 3
   },
   "file_extension": ".py",
   "mimetype": "text/x-python",
   "name": "python",
   "nbconvert_exporter": "python",
   "pygments_lexer": "ipython3",
   "version": "3.10.4"
  }
 },
 "nbformat": 4,
 "nbformat_minor": 2
}
